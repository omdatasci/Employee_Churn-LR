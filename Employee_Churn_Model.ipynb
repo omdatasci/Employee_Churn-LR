{
 "cells": [
  {
   "cell_type": "code",
   "execution_count": 3,
   "id": "81af2ed5-7680-494d-ba09-f469a6ffa715",
   "metadata": {},
   "outputs": [],
   "source": [
    "import pandas as pd\n",
    "import numpy as np\n",
    "import matplotlib.pyplot as plt\n"
   ]
  },
  {
   "cell_type": "code",
   "execution_count": 4,
   "id": "c657c758-d3d5-43e7-9a9d-e24942a1c8f3",
   "metadata": {},
   "outputs": [],
   "source": [
    "df = pd.read_csv(\"ChurnData.csv\")"
   ]
  },
  {
   "cell_type": "code",
   "execution_count": 5,
   "id": "b0d1cd3c-9c56-42d0-ba73-4cc14dc59641",
   "metadata": {},
   "outputs": [
    {
     "data": {
      "text/html": [
       "<div>\n",
       "<style scoped>\n",
       "    .dataframe tbody tr th:only-of-type {\n",
       "        vertical-align: middle;\n",
       "    }\n",
       "\n",
       "    .dataframe tbody tr th {\n",
       "        vertical-align: top;\n",
       "    }\n",
       "\n",
       "    .dataframe thead th {\n",
       "        text-align: right;\n",
       "    }\n",
       "</style>\n",
       "<table border=\"1\" class=\"dataframe\">\n",
       "  <thead>\n",
       "    <tr style=\"text-align: right;\">\n",
       "      <th></th>\n",
       "      <th>tenure</th>\n",
       "      <th>age</th>\n",
       "      <th>address</th>\n",
       "      <th>income</th>\n",
       "      <th>ed</th>\n",
       "      <th>employ</th>\n",
       "      <th>equip</th>\n",
       "      <th>callcard</th>\n",
       "      <th>wireless</th>\n",
       "      <th>longmon</th>\n",
       "      <th>...</th>\n",
       "      <th>pager</th>\n",
       "      <th>internet</th>\n",
       "      <th>callwait</th>\n",
       "      <th>confer</th>\n",
       "      <th>ebill</th>\n",
       "      <th>loglong</th>\n",
       "      <th>logtoll</th>\n",
       "      <th>lninc</th>\n",
       "      <th>custcat</th>\n",
       "      <th>churn</th>\n",
       "    </tr>\n",
       "  </thead>\n",
       "  <tbody>\n",
       "    <tr>\n",
       "      <th>0</th>\n",
       "      <td>11.0</td>\n",
       "      <td>33.0</td>\n",
       "      <td>7.0</td>\n",
       "      <td>136.0</td>\n",
       "      <td>5.0</td>\n",
       "      <td>5.0</td>\n",
       "      <td>0.0</td>\n",
       "      <td>1.0</td>\n",
       "      <td>1.0</td>\n",
       "      <td>4.40</td>\n",
       "      <td>...</td>\n",
       "      <td>1.0</td>\n",
       "      <td>0.0</td>\n",
       "      <td>1.0</td>\n",
       "      <td>1.0</td>\n",
       "      <td>0.0</td>\n",
       "      <td>1.482</td>\n",
       "      <td>3.033</td>\n",
       "      <td>4.913</td>\n",
       "      <td>4.0</td>\n",
       "      <td>1.0</td>\n",
       "    </tr>\n",
       "    <tr>\n",
       "      <th>1</th>\n",
       "      <td>33.0</td>\n",
       "      <td>33.0</td>\n",
       "      <td>12.0</td>\n",
       "      <td>33.0</td>\n",
       "      <td>2.0</td>\n",
       "      <td>0.0</td>\n",
       "      <td>0.0</td>\n",
       "      <td>0.0</td>\n",
       "      <td>0.0</td>\n",
       "      <td>9.45</td>\n",
       "      <td>...</td>\n",
       "      <td>0.0</td>\n",
       "      <td>0.0</td>\n",
       "      <td>0.0</td>\n",
       "      <td>0.0</td>\n",
       "      <td>0.0</td>\n",
       "      <td>2.246</td>\n",
       "      <td>3.240</td>\n",
       "      <td>3.497</td>\n",
       "      <td>1.0</td>\n",
       "      <td>1.0</td>\n",
       "    </tr>\n",
       "    <tr>\n",
       "      <th>2</th>\n",
       "      <td>23.0</td>\n",
       "      <td>30.0</td>\n",
       "      <td>9.0</td>\n",
       "      <td>30.0</td>\n",
       "      <td>1.0</td>\n",
       "      <td>2.0</td>\n",
       "      <td>0.0</td>\n",
       "      <td>0.0</td>\n",
       "      <td>0.0</td>\n",
       "      <td>6.30</td>\n",
       "      <td>...</td>\n",
       "      <td>0.0</td>\n",
       "      <td>0.0</td>\n",
       "      <td>0.0</td>\n",
       "      <td>1.0</td>\n",
       "      <td>0.0</td>\n",
       "      <td>1.841</td>\n",
       "      <td>3.240</td>\n",
       "      <td>3.401</td>\n",
       "      <td>3.0</td>\n",
       "      <td>0.0</td>\n",
       "    </tr>\n",
       "    <tr>\n",
       "      <th>3</th>\n",
       "      <td>38.0</td>\n",
       "      <td>35.0</td>\n",
       "      <td>5.0</td>\n",
       "      <td>76.0</td>\n",
       "      <td>2.0</td>\n",
       "      <td>10.0</td>\n",
       "      <td>1.0</td>\n",
       "      <td>1.0</td>\n",
       "      <td>1.0</td>\n",
       "      <td>6.05</td>\n",
       "      <td>...</td>\n",
       "      <td>1.0</td>\n",
       "      <td>1.0</td>\n",
       "      <td>1.0</td>\n",
       "      <td>1.0</td>\n",
       "      <td>1.0</td>\n",
       "      <td>1.800</td>\n",
       "      <td>3.807</td>\n",
       "      <td>4.331</td>\n",
       "      <td>4.0</td>\n",
       "      <td>0.0</td>\n",
       "    </tr>\n",
       "    <tr>\n",
       "      <th>4</th>\n",
       "      <td>7.0</td>\n",
       "      <td>35.0</td>\n",
       "      <td>14.0</td>\n",
       "      <td>80.0</td>\n",
       "      <td>2.0</td>\n",
       "      <td>15.0</td>\n",
       "      <td>0.0</td>\n",
       "      <td>1.0</td>\n",
       "      <td>0.0</td>\n",
       "      <td>7.10</td>\n",
       "      <td>...</td>\n",
       "      <td>0.0</td>\n",
       "      <td>0.0</td>\n",
       "      <td>1.0</td>\n",
       "      <td>1.0</td>\n",
       "      <td>0.0</td>\n",
       "      <td>1.960</td>\n",
       "      <td>3.091</td>\n",
       "      <td>4.382</td>\n",
       "      <td>3.0</td>\n",
       "      <td>0.0</td>\n",
       "    </tr>\n",
       "  </tbody>\n",
       "</table>\n",
       "<p>5 rows × 28 columns</p>\n",
       "</div>"
      ],
      "text/plain": [
       "   tenure   age  address  income   ed  employ  equip  callcard  wireless  \\\n",
       "0    11.0  33.0      7.0   136.0  5.0     5.0    0.0       1.0       1.0   \n",
       "1    33.0  33.0     12.0    33.0  2.0     0.0    0.0       0.0       0.0   \n",
       "2    23.0  30.0      9.0    30.0  1.0     2.0    0.0       0.0       0.0   \n",
       "3    38.0  35.0      5.0    76.0  2.0    10.0    1.0       1.0       1.0   \n",
       "4     7.0  35.0     14.0    80.0  2.0    15.0    0.0       1.0       0.0   \n",
       "\n",
       "   longmon  ...  pager  internet  callwait  confer  ebill  loglong  logtoll  \\\n",
       "0     4.40  ...    1.0       0.0       1.0     1.0    0.0    1.482    3.033   \n",
       "1     9.45  ...    0.0       0.0       0.0     0.0    0.0    2.246    3.240   \n",
       "2     6.30  ...    0.0       0.0       0.0     1.0    0.0    1.841    3.240   \n",
       "3     6.05  ...    1.0       1.0       1.0     1.0    1.0    1.800    3.807   \n",
       "4     7.10  ...    0.0       0.0       1.0     1.0    0.0    1.960    3.091   \n",
       "\n",
       "   lninc  custcat  churn  \n",
       "0  4.913      4.0    1.0  \n",
       "1  3.497      1.0    1.0  \n",
       "2  3.401      3.0    0.0  \n",
       "3  4.331      4.0    0.0  \n",
       "4  4.382      3.0    0.0  \n",
       "\n",
       "[5 rows x 28 columns]"
      ]
     },
     "execution_count": 5,
     "metadata": {},
     "output_type": "execute_result"
    }
   ],
   "source": [
    "df.head()"
   ]
  },
  {
   "cell_type": "code",
   "execution_count": 6,
   "id": "3c9d447c-4f6d-46ab-9c92-e964dd47281e",
   "metadata": {},
   "outputs": [
    {
     "data": {
      "text/html": [
       "<div>\n",
       "<style scoped>\n",
       "    .dataframe tbody tr th:only-of-type {\n",
       "        vertical-align: middle;\n",
       "    }\n",
       "\n",
       "    .dataframe tbody tr th {\n",
       "        vertical-align: top;\n",
       "    }\n",
       "\n",
       "    .dataframe thead th {\n",
       "        text-align: right;\n",
       "    }\n",
       "</style>\n",
       "<table border=\"1\" class=\"dataframe\">\n",
       "  <thead>\n",
       "    <tr style=\"text-align: right;\">\n",
       "      <th></th>\n",
       "      <th>tenure</th>\n",
       "      <th>age</th>\n",
       "      <th>address</th>\n",
       "      <th>income</th>\n",
       "      <th>ed</th>\n",
       "      <th>employ</th>\n",
       "      <th>equip</th>\n",
       "      <th>callcard</th>\n",
       "      <th>wireless</th>\n",
       "      <th>longmon</th>\n",
       "      <th>...</th>\n",
       "      <th>pager</th>\n",
       "      <th>internet</th>\n",
       "      <th>callwait</th>\n",
       "      <th>confer</th>\n",
       "      <th>ebill</th>\n",
       "      <th>loglong</th>\n",
       "      <th>logtoll</th>\n",
       "      <th>lninc</th>\n",
       "      <th>custcat</th>\n",
       "      <th>churn</th>\n",
       "    </tr>\n",
       "  </thead>\n",
       "  <tbody>\n",
       "    <tr>\n",
       "      <th>count</th>\n",
       "      <td>200.000000</td>\n",
       "      <td>200.000000</td>\n",
       "      <td>200.000000</td>\n",
       "      <td>200.000000</td>\n",
       "      <td>200.00000</td>\n",
       "      <td>200.00000</td>\n",
       "      <td>200.000000</td>\n",
       "      <td>200.000000</td>\n",
       "      <td>200.000000</td>\n",
       "      <td>200.00000</td>\n",
       "      <td>...</td>\n",
       "      <td>200.000000</td>\n",
       "      <td>200.000000</td>\n",
       "      <td>200.00000</td>\n",
       "      <td>200.000000</td>\n",
       "      <td>200.000000</td>\n",
       "      <td>200.000000</td>\n",
       "      <td>200.000000</td>\n",
       "      <td>200.000000</td>\n",
       "      <td>200.000000</td>\n",
       "      <td>200.000000</td>\n",
       "    </tr>\n",
       "    <tr>\n",
       "      <th>mean</th>\n",
       "      <td>35.505000</td>\n",
       "      <td>41.165000</td>\n",
       "      <td>11.650000</td>\n",
       "      <td>75.130000</td>\n",
       "      <td>2.82500</td>\n",
       "      <td>10.22500</td>\n",
       "      <td>0.425000</td>\n",
       "      <td>0.705000</td>\n",
       "      <td>0.290000</td>\n",
       "      <td>11.78925</td>\n",
       "      <td>...</td>\n",
       "      <td>0.275000</td>\n",
       "      <td>0.440000</td>\n",
       "      <td>0.45500</td>\n",
       "      <td>0.460000</td>\n",
       "      <td>0.440000</td>\n",
       "      <td>2.193285</td>\n",
       "      <td>3.229185</td>\n",
       "      <td>3.951015</td>\n",
       "      <td>2.475000</td>\n",
       "      <td>0.290000</td>\n",
       "    </tr>\n",
       "    <tr>\n",
       "      <th>std</th>\n",
       "      <td>21.640971</td>\n",
       "      <td>13.076803</td>\n",
       "      <td>10.158419</td>\n",
       "      <td>128.430468</td>\n",
       "      <td>1.28555</td>\n",
       "      <td>8.95743</td>\n",
       "      <td>0.495584</td>\n",
       "      <td>0.457187</td>\n",
       "      <td>0.454901</td>\n",
       "      <td>9.88725</td>\n",
       "      <td>...</td>\n",
       "      <td>0.447635</td>\n",
       "      <td>0.497633</td>\n",
       "      <td>0.49922</td>\n",
       "      <td>0.499648</td>\n",
       "      <td>0.497633</td>\n",
       "      <td>0.731282</td>\n",
       "      <td>0.281019</td>\n",
       "      <td>0.752553</td>\n",
       "      <td>1.079445</td>\n",
       "      <td>0.454901</td>\n",
       "    </tr>\n",
       "    <tr>\n",
       "      <th>min</th>\n",
       "      <td>1.000000</td>\n",
       "      <td>19.000000</td>\n",
       "      <td>0.000000</td>\n",
       "      <td>9.000000</td>\n",
       "      <td>1.00000</td>\n",
       "      <td>0.00000</td>\n",
       "      <td>0.000000</td>\n",
       "      <td>0.000000</td>\n",
       "      <td>0.000000</td>\n",
       "      <td>1.10000</td>\n",
       "      <td>...</td>\n",
       "      <td>0.000000</td>\n",
       "      <td>0.000000</td>\n",
       "      <td>0.00000</td>\n",
       "      <td>0.000000</td>\n",
       "      <td>0.000000</td>\n",
       "      <td>0.095000</td>\n",
       "      <td>1.749000</td>\n",
       "      <td>2.197000</td>\n",
       "      <td>1.000000</td>\n",
       "      <td>0.000000</td>\n",
       "    </tr>\n",
       "    <tr>\n",
       "      <th>25%</th>\n",
       "      <td>16.750000</td>\n",
       "      <td>31.000000</td>\n",
       "      <td>3.000000</td>\n",
       "      <td>31.000000</td>\n",
       "      <td>2.00000</td>\n",
       "      <td>3.00000</td>\n",
       "      <td>0.000000</td>\n",
       "      <td>0.000000</td>\n",
       "      <td>0.000000</td>\n",
       "      <td>5.53750</td>\n",
       "      <td>...</td>\n",
       "      <td>0.000000</td>\n",
       "      <td>0.000000</td>\n",
       "      <td>0.00000</td>\n",
       "      <td>0.000000</td>\n",
       "      <td>0.000000</td>\n",
       "      <td>1.711750</td>\n",
       "      <td>3.226500</td>\n",
       "      <td>3.434000</td>\n",
       "      <td>2.000000</td>\n",
       "      <td>0.000000</td>\n",
       "    </tr>\n",
       "    <tr>\n",
       "      <th>50%</th>\n",
       "      <td>33.500000</td>\n",
       "      <td>40.000000</td>\n",
       "      <td>9.000000</td>\n",
       "      <td>48.000000</td>\n",
       "      <td>3.00000</td>\n",
       "      <td>7.50000</td>\n",
       "      <td>0.000000</td>\n",
       "      <td>1.000000</td>\n",
       "      <td>0.000000</td>\n",
       "      <td>8.25000</td>\n",
       "      <td>...</td>\n",
       "      <td>0.000000</td>\n",
       "      <td>0.000000</td>\n",
       "      <td>0.00000</td>\n",
       "      <td>0.000000</td>\n",
       "      <td>0.000000</td>\n",
       "      <td>2.110000</td>\n",
       "      <td>3.240000</td>\n",
       "      <td>3.871000</td>\n",
       "      <td>2.000000</td>\n",
       "      <td>0.000000</td>\n",
       "    </tr>\n",
       "    <tr>\n",
       "      <th>75%</th>\n",
       "      <td>55.250000</td>\n",
       "      <td>51.000000</td>\n",
       "      <td>18.000000</td>\n",
       "      <td>80.000000</td>\n",
       "      <td>4.00000</td>\n",
       "      <td>17.00000</td>\n",
       "      <td>1.000000</td>\n",
       "      <td>1.000000</td>\n",
       "      <td>1.000000</td>\n",
       "      <td>14.30000</td>\n",
       "      <td>...</td>\n",
       "      <td>1.000000</td>\n",
       "      <td>1.000000</td>\n",
       "      <td>1.00000</td>\n",
       "      <td>1.000000</td>\n",
       "      <td>1.000000</td>\n",
       "      <td>2.660000</td>\n",
       "      <td>3.240000</td>\n",
       "      <td>4.382000</td>\n",
       "      <td>3.000000</td>\n",
       "      <td>1.000000</td>\n",
       "    </tr>\n",
       "    <tr>\n",
       "      <th>max</th>\n",
       "      <td>72.000000</td>\n",
       "      <td>76.000000</td>\n",
       "      <td>48.000000</td>\n",
       "      <td>1668.000000</td>\n",
       "      <td>5.00000</td>\n",
       "      <td>44.00000</td>\n",
       "      <td>1.000000</td>\n",
       "      <td>1.000000</td>\n",
       "      <td>1.000000</td>\n",
       "      <td>62.30000</td>\n",
       "      <td>...</td>\n",
       "      <td>1.000000</td>\n",
       "      <td>1.000000</td>\n",
       "      <td>1.00000</td>\n",
       "      <td>1.000000</td>\n",
       "      <td>1.000000</td>\n",
       "      <td>4.132000</td>\n",
       "      <td>4.227000</td>\n",
       "      <td>7.419000</td>\n",
       "      <td>4.000000</td>\n",
       "      <td>1.000000</td>\n",
       "    </tr>\n",
       "  </tbody>\n",
       "</table>\n",
       "<p>8 rows × 28 columns</p>\n",
       "</div>"
      ],
      "text/plain": [
       "           tenure         age     address       income         ed     employ  \\\n",
       "count  200.000000  200.000000  200.000000   200.000000  200.00000  200.00000   \n",
       "mean    35.505000   41.165000   11.650000    75.130000    2.82500   10.22500   \n",
       "std     21.640971   13.076803   10.158419   128.430468    1.28555    8.95743   \n",
       "min      1.000000   19.000000    0.000000     9.000000    1.00000    0.00000   \n",
       "25%     16.750000   31.000000    3.000000    31.000000    2.00000    3.00000   \n",
       "50%     33.500000   40.000000    9.000000    48.000000    3.00000    7.50000   \n",
       "75%     55.250000   51.000000   18.000000    80.000000    4.00000   17.00000   \n",
       "max     72.000000   76.000000   48.000000  1668.000000    5.00000   44.00000   \n",
       "\n",
       "            equip    callcard    wireless    longmon  ...       pager  \\\n",
       "count  200.000000  200.000000  200.000000  200.00000  ...  200.000000   \n",
       "mean     0.425000    0.705000    0.290000   11.78925  ...    0.275000   \n",
       "std      0.495584    0.457187    0.454901    9.88725  ...    0.447635   \n",
       "min      0.000000    0.000000    0.000000    1.10000  ...    0.000000   \n",
       "25%      0.000000    0.000000    0.000000    5.53750  ...    0.000000   \n",
       "50%      0.000000    1.000000    0.000000    8.25000  ...    0.000000   \n",
       "75%      1.000000    1.000000    1.000000   14.30000  ...    1.000000   \n",
       "max      1.000000    1.000000    1.000000   62.30000  ...    1.000000   \n",
       "\n",
       "         internet   callwait      confer       ebill     loglong     logtoll  \\\n",
       "count  200.000000  200.00000  200.000000  200.000000  200.000000  200.000000   \n",
       "mean     0.440000    0.45500    0.460000    0.440000    2.193285    3.229185   \n",
       "std      0.497633    0.49922    0.499648    0.497633    0.731282    0.281019   \n",
       "min      0.000000    0.00000    0.000000    0.000000    0.095000    1.749000   \n",
       "25%      0.000000    0.00000    0.000000    0.000000    1.711750    3.226500   \n",
       "50%      0.000000    0.00000    0.000000    0.000000    2.110000    3.240000   \n",
       "75%      1.000000    1.00000    1.000000    1.000000    2.660000    3.240000   \n",
       "max      1.000000    1.00000    1.000000    1.000000    4.132000    4.227000   \n",
       "\n",
       "            lninc     custcat       churn  \n",
       "count  200.000000  200.000000  200.000000  \n",
       "mean     3.951015    2.475000    0.290000  \n",
       "std      0.752553    1.079445    0.454901  \n",
       "min      2.197000    1.000000    0.000000  \n",
       "25%      3.434000    2.000000    0.000000  \n",
       "50%      3.871000    2.000000    0.000000  \n",
       "75%      4.382000    3.000000    1.000000  \n",
       "max      7.419000    4.000000    1.000000  \n",
       "\n",
       "[8 rows x 28 columns]"
      ]
     },
     "execution_count": 6,
     "metadata": {},
     "output_type": "execute_result"
    }
   ],
   "source": [
    "df.describe()"
   ]
  },
  {
   "cell_type": "code",
   "execution_count": 7,
   "id": "76e51159-0ffa-4c5c-8e67-1537144f42ca",
   "metadata": {},
   "outputs": [
    {
     "name": "stdout",
     "output_type": "stream",
     "text": [
      "<class 'pandas.core.frame.DataFrame'>\n",
      "RangeIndex: 200 entries, 0 to 199\n",
      "Data columns (total 28 columns):\n",
      " #   Column    Non-Null Count  Dtype  \n",
      "---  ------    --------------  -----  \n",
      " 0   tenure    200 non-null    float64\n",
      " 1   age       200 non-null    float64\n",
      " 2   address   200 non-null    float64\n",
      " 3   income    200 non-null    float64\n",
      " 4   ed        200 non-null    float64\n",
      " 5   employ    200 non-null    float64\n",
      " 6   equip     200 non-null    float64\n",
      " 7   callcard  200 non-null    float64\n",
      " 8   wireless  200 non-null    float64\n",
      " 9   longmon   200 non-null    float64\n",
      " 10  tollmon   200 non-null    float64\n",
      " 11  equipmon  200 non-null    float64\n",
      " 12  cardmon   200 non-null    float64\n",
      " 13  wiremon   200 non-null    float64\n",
      " 14  longten   200 non-null    float64\n",
      " 15  tollten   200 non-null    float64\n",
      " 16  cardten   200 non-null    float64\n",
      " 17  voice     200 non-null    float64\n",
      " 18  pager     200 non-null    float64\n",
      " 19  internet  200 non-null    float64\n",
      " 20  callwait  200 non-null    float64\n",
      " 21  confer    200 non-null    float64\n",
      " 22  ebill     200 non-null    float64\n",
      " 23  loglong   200 non-null    float64\n",
      " 24  logtoll   200 non-null    float64\n",
      " 25  lninc     200 non-null    float64\n",
      " 26  custcat   200 non-null    float64\n",
      " 27  churn     200 non-null    float64\n",
      "dtypes: float64(28)\n",
      "memory usage: 43.9 KB\n"
     ]
    }
   ],
   "source": [
    "df.info()"
   ]
  },
  {
   "cell_type": "code",
   "execution_count": null,
   "id": "0c826d25-c636-451f-ad76-f26310c106da",
   "metadata": {},
   "outputs": [],
   "source": []
  },
  {
   "cell_type": "code",
   "execution_count": 8,
   "id": "af27f4bc-7e29-41e3-bb65-9f50825ff26a",
   "metadata": {},
   "outputs": [],
   "source": [
    "# Applying Variance"
   ]
  },
  {
   "cell_type": "code",
   "execution_count": 9,
   "id": "994fd5b4-e83b-48db-895d-53997dc8906d",
   "metadata": {},
   "outputs": [],
   "source": [
    "from sklearn.feature_selection import VarianceThreshold"
   ]
  },
  {
   "cell_type": "code",
   "execution_count": 10,
   "id": "7eed2841-aa01-45c7-b2f7-8ba5ac3db498",
   "metadata": {},
   "outputs": [],
   "source": [
    "vart = VarianceThreshold()"
   ]
  },
  {
   "cell_type": "code",
   "execution_count": 11,
   "id": "ce77a44d-ab6a-4173-b99a-ec34a5519bb9",
   "metadata": {},
   "outputs": [],
   "source": [
    "op = vart.fit(df)"
   ]
  },
  {
   "cell_type": "code",
   "execution_count": 12,
   "id": "56cf1427-b7fe-4100-937f-4e85c6c9b4b4",
   "metadata": {},
   "outputs": [
    {
     "data": {
      "text/plain": [
       "array([ True,  True,  True,  True,  True,  True,  True,  True,  True,\n",
       "        True,  True,  True,  True,  True,  True,  True,  True,  True,\n",
       "        True,  True,  True,  True,  True,  True,  True,  True,  True,\n",
       "        True])"
      ]
     },
     "execution_count": 12,
     "metadata": {},
     "output_type": "execute_result"
    }
   ],
   "source": [
    "op.get_support()"
   ]
  },
  {
   "cell_type": "code",
   "execution_count": 13,
   "id": "9dc1a0ba-a20d-48e1-a690-61ecf0203dcf",
   "metadata": {},
   "outputs": [
    {
     "data": {
      "text/plain": [
       "Index(['tenure', 'age', 'address', 'income', 'ed', 'employ', 'equip',\n",
       "       'callcard', 'wireless', 'longmon', 'tollmon', 'equipmon', 'cardmon',\n",
       "       'wiremon', 'longten', 'tollten', 'cardten', 'voice', 'pager',\n",
       "       'internet', 'callwait', 'confer', 'ebill', 'loglong', 'logtoll',\n",
       "       'lninc', 'custcat', 'churn'],\n",
       "      dtype='object')"
      ]
     },
     "execution_count": 13,
     "metadata": {},
     "output_type": "execute_result"
    }
   ],
   "source": [
    "df.columns[op.get_support()==True]"
   ]
  },
  {
   "cell_type": "code",
   "execution_count": null,
   "id": "a41e1b89-b6b7-4678-bdc6-819216e55a64",
   "metadata": {},
   "outputs": [],
   "source": []
  },
  {
   "cell_type": "code",
   "execution_count": 14,
   "id": "cc49b4f9-ccaa-40bc-a85c-7af22400817c",
   "metadata": {},
   "outputs": [],
   "source": [
    "vart2 = VarianceThreshold(threshold=0.5)"
   ]
  },
  {
   "cell_type": "code",
   "execution_count": 15,
   "id": "0967b86b-b707-4a6e-9181-c5d8ba2cf44e",
   "metadata": {},
   "outputs": [],
   "source": [
    "op = vart2.fit(df)"
   ]
  },
  {
   "cell_type": "code",
   "execution_count": 16,
   "id": "50aa644a-c2f8-44ae-8fff-c87a43fccc35",
   "metadata": {},
   "outputs": [
    {
     "data": {
      "text/plain": [
       "array([ True,  True,  True,  True,  True,  True, False, False, False,\n",
       "        True,  True,  True,  True,  True,  True,  True,  True, False,\n",
       "       False, False, False, False, False,  True, False,  True,  True,\n",
       "       False])"
      ]
     },
     "execution_count": 16,
     "metadata": {},
     "output_type": "execute_result"
    }
   ],
   "source": [
    "op.get_support()"
   ]
  },
  {
   "cell_type": "code",
   "execution_count": 17,
   "id": "50a0221d-adb1-443b-934f-0b31c3bfa039",
   "metadata": {},
   "outputs": [
    {
     "data": {
      "text/plain": [
       "Index(['tenure', 'age', 'address', 'income', 'ed', 'employ', 'longmon',\n",
       "       'tollmon', 'equipmon', 'cardmon', 'wiremon', 'longten', 'tollten',\n",
       "       'cardten', 'loglong', 'lninc', 'custcat'],\n",
       "      dtype='object')"
      ]
     },
     "execution_count": 17,
     "metadata": {},
     "output_type": "execute_result"
    }
   ],
   "source": [
    "df.columns[op.get_support()==True]"
   ]
  },
  {
   "cell_type": "code",
   "execution_count": 18,
   "id": "55e82ef6-71e8-40bc-b04b-98672eb60b14",
   "metadata": {},
   "outputs": [
    {
     "data": {
      "text/plain": [
       "Index(['equip', 'callcard', 'wireless', 'voice', 'pager', 'internet',\n",
       "       'callwait', 'confer', 'ebill', 'logtoll', 'churn'],\n",
       "      dtype='object')"
      ]
     },
     "execution_count": 18,
     "metadata": {},
     "output_type": "execute_result"
    }
   ],
   "source": [
    "c_names = df.columns[op.get_support()==False]\n",
    "c_names"
   ]
  },
  {
   "cell_type": "code",
   "execution_count": null,
   "id": "aa93e30c-c3cd-46af-9a9b-21597726372f",
   "metadata": {},
   "outputs": [],
   "source": []
  },
  {
   "cell_type": "code",
   "execution_count": 19,
   "id": "5b6b374b-f024-4b4e-ac50-ed5f3b6d37e8",
   "metadata": {},
   "outputs": [],
   "source": [
    "cdf = df['churn'] # Storing DV in cdf dataframe"
   ]
  },
  {
   "cell_type": "code",
   "execution_count": 20,
   "id": "82b54b6e-6749-469c-a241-2c341cd57531",
   "metadata": {},
   "outputs": [],
   "source": [
    "df.drop(c_names, axis=1, inplace=True)"
   ]
  },
  {
   "cell_type": "code",
   "execution_count": 21,
   "id": "5f3c10ba-3303-4d90-a74a-803314ee83da",
   "metadata": {},
   "outputs": [
    {
     "data": {
      "text/html": [
       "<div>\n",
       "<style scoped>\n",
       "    .dataframe tbody tr th:only-of-type {\n",
       "        vertical-align: middle;\n",
       "    }\n",
       "\n",
       "    .dataframe tbody tr th {\n",
       "        vertical-align: top;\n",
       "    }\n",
       "\n",
       "    .dataframe thead th {\n",
       "        text-align: right;\n",
       "    }\n",
       "</style>\n",
       "<table border=\"1\" class=\"dataframe\">\n",
       "  <thead>\n",
       "    <tr style=\"text-align: right;\">\n",
       "      <th></th>\n",
       "      <th>tenure</th>\n",
       "      <th>age</th>\n",
       "      <th>address</th>\n",
       "      <th>income</th>\n",
       "      <th>ed</th>\n",
       "      <th>employ</th>\n",
       "      <th>longmon</th>\n",
       "      <th>tollmon</th>\n",
       "      <th>equipmon</th>\n",
       "      <th>cardmon</th>\n",
       "      <th>wiremon</th>\n",
       "      <th>longten</th>\n",
       "      <th>tollten</th>\n",
       "      <th>cardten</th>\n",
       "      <th>loglong</th>\n",
       "      <th>lninc</th>\n",
       "      <th>custcat</th>\n",
       "    </tr>\n",
       "  </thead>\n",
       "  <tbody>\n",
       "    <tr>\n",
       "      <th>0</th>\n",
       "      <td>11.0</td>\n",
       "      <td>33.0</td>\n",
       "      <td>7.0</td>\n",
       "      <td>136.0</td>\n",
       "      <td>5.0</td>\n",
       "      <td>5.0</td>\n",
       "      <td>4.40</td>\n",
       "      <td>20.75</td>\n",
       "      <td>0.0</td>\n",
       "      <td>15.25</td>\n",
       "      <td>35.7</td>\n",
       "      <td>42.00</td>\n",
       "      <td>211.45</td>\n",
       "      <td>125.0</td>\n",
       "      <td>1.482</td>\n",
       "      <td>4.913</td>\n",
       "      <td>4.0</td>\n",
       "    </tr>\n",
       "    <tr>\n",
       "      <th>1</th>\n",
       "      <td>33.0</td>\n",
       "      <td>33.0</td>\n",
       "      <td>12.0</td>\n",
       "      <td>33.0</td>\n",
       "      <td>2.0</td>\n",
       "      <td>0.0</td>\n",
       "      <td>9.45</td>\n",
       "      <td>0.00</td>\n",
       "      <td>0.0</td>\n",
       "      <td>0.00</td>\n",
       "      <td>0.0</td>\n",
       "      <td>288.80</td>\n",
       "      <td>0.00</td>\n",
       "      <td>0.0</td>\n",
       "      <td>2.246</td>\n",
       "      <td>3.497</td>\n",
       "      <td>1.0</td>\n",
       "    </tr>\n",
       "    <tr>\n",
       "      <th>2</th>\n",
       "      <td>23.0</td>\n",
       "      <td>30.0</td>\n",
       "      <td>9.0</td>\n",
       "      <td>30.0</td>\n",
       "      <td>1.0</td>\n",
       "      <td>2.0</td>\n",
       "      <td>6.30</td>\n",
       "      <td>0.00</td>\n",
       "      <td>0.0</td>\n",
       "      <td>0.00</td>\n",
       "      <td>0.0</td>\n",
       "      <td>157.05</td>\n",
       "      <td>0.00</td>\n",
       "      <td>0.0</td>\n",
       "      <td>1.841</td>\n",
       "      <td>3.401</td>\n",
       "      <td>3.0</td>\n",
       "    </tr>\n",
       "    <tr>\n",
       "      <th>3</th>\n",
       "      <td>38.0</td>\n",
       "      <td>35.0</td>\n",
       "      <td>5.0</td>\n",
       "      <td>76.0</td>\n",
       "      <td>2.0</td>\n",
       "      <td>10.0</td>\n",
       "      <td>6.05</td>\n",
       "      <td>45.00</td>\n",
       "      <td>50.1</td>\n",
       "      <td>23.25</td>\n",
       "      <td>64.9</td>\n",
       "      <td>239.55</td>\n",
       "      <td>1873.05</td>\n",
       "      <td>880.0</td>\n",
       "      <td>1.800</td>\n",
       "      <td>4.331</td>\n",
       "      <td>4.0</td>\n",
       "    </tr>\n",
       "    <tr>\n",
       "      <th>4</th>\n",
       "      <td>7.0</td>\n",
       "      <td>35.0</td>\n",
       "      <td>14.0</td>\n",
       "      <td>80.0</td>\n",
       "      <td>2.0</td>\n",
       "      <td>15.0</td>\n",
       "      <td>7.10</td>\n",
       "      <td>22.00</td>\n",
       "      <td>0.0</td>\n",
       "      <td>23.75</td>\n",
       "      <td>0.0</td>\n",
       "      <td>47.45</td>\n",
       "      <td>166.10</td>\n",
       "      <td>145.0</td>\n",
       "      <td>1.960</td>\n",
       "      <td>4.382</td>\n",
       "      <td>3.0</td>\n",
       "    </tr>\n",
       "  </tbody>\n",
       "</table>\n",
       "</div>"
      ],
      "text/plain": [
       "   tenure   age  address  income   ed  employ  longmon  tollmon  equipmon  \\\n",
       "0    11.0  33.0      7.0   136.0  5.0     5.0     4.40    20.75       0.0   \n",
       "1    33.0  33.0     12.0    33.0  2.0     0.0     9.45     0.00       0.0   \n",
       "2    23.0  30.0      9.0    30.0  1.0     2.0     6.30     0.00       0.0   \n",
       "3    38.0  35.0      5.0    76.0  2.0    10.0     6.05    45.00      50.1   \n",
       "4     7.0  35.0     14.0    80.0  2.0    15.0     7.10    22.00       0.0   \n",
       "\n",
       "   cardmon  wiremon  longten  tollten  cardten  loglong  lninc  custcat  \n",
       "0    15.25     35.7    42.00   211.45    125.0    1.482  4.913      4.0  \n",
       "1     0.00      0.0   288.80     0.00      0.0    2.246  3.497      1.0  \n",
       "2     0.00      0.0   157.05     0.00      0.0    1.841  3.401      3.0  \n",
       "3    23.25     64.9   239.55  1873.05    880.0    1.800  4.331      4.0  \n",
       "4    23.75      0.0    47.45   166.10    145.0    1.960  4.382      3.0  "
      ]
     },
     "execution_count": 21,
     "metadata": {},
     "output_type": "execute_result"
    }
   ],
   "source": [
    "df.head()"
   ]
  },
  {
   "cell_type": "code",
   "execution_count": null,
   "id": "9626f4ac-2891-4058-8899-80c5aea28f3b",
   "metadata": {},
   "outputs": [],
   "source": []
  },
  {
   "cell_type": "code",
   "execution_count": 22,
   "id": "f638cfb2-ede6-49d6-b3dc-c1105756b9cf",
   "metadata": {},
   "outputs": [],
   "source": [
    "# Applying MIC"
   ]
  },
  {
   "cell_type": "code",
   "execution_count": 23,
   "id": "d491e15a-a3fd-4751-80b7-68cc4f415035",
   "metadata": {},
   "outputs": [],
   "source": [
    "from sklearn.feature_selection import mutual_info_classif"
   ]
  },
  {
   "cell_type": "code",
   "execution_count": 24,
   "id": "1eee230b-94a5-4518-82ab-2787e9354d95",
   "metadata": {},
   "outputs": [],
   "source": [
    "MIC = mutual_info_classif(df, cdf)"
   ]
  },
  {
   "cell_type": "code",
   "execution_count": 25,
   "id": "ebbc2b40-16fe-4735-95ad-68446eb579ac",
   "metadata": {},
   "outputs": [
    {
     "data": {
      "text/plain": [
       "array([0.1311906 , 0.02496618, 0.04858503, 0.03508064, 0.0541206 ,\n",
       "       0.07489259, 0.03126277, 0.04274667, 0.03229822, 0.00036868,\n",
       "       0.08168195, 0.05729314, 0.03693939, 0.08581942, 0.02475521,\n",
       "       0.02288208, 0.        ])"
      ]
     },
     "execution_count": 25,
     "metadata": {},
     "output_type": "execute_result"
    }
   ],
   "source": [
    "MIC"
   ]
  },
  {
   "cell_type": "code",
   "execution_count": 26,
   "id": "0bc69a0e-9416-42ef-b12e-13161e9f541d",
   "metadata": {},
   "outputs": [],
   "source": [
    "mic_ser = pd.Series(MIC)"
   ]
  },
  {
   "cell_type": "code",
   "execution_count": 27,
   "id": "089a1c72-7433-424c-bfdc-89f3ccb4399c",
   "metadata": {},
   "outputs": [
    {
     "data": {
      "text/plain": [
       "0     0.131191\n",
       "1     0.024966\n",
       "2     0.048585\n",
       "3     0.035081\n",
       "4     0.054121\n",
       "5     0.074893\n",
       "6     0.031263\n",
       "7     0.042747\n",
       "8     0.032298\n",
       "9     0.000369\n",
       "10    0.081682\n",
       "11    0.057293\n",
       "12    0.036939\n",
       "13    0.085819\n",
       "14    0.024755\n",
       "15    0.022882\n",
       "16    0.000000\n",
       "dtype: float64"
      ]
     },
     "execution_count": 27,
     "metadata": {},
     "output_type": "execute_result"
    }
   ],
   "source": [
    "mic_ser"
   ]
  },
  {
   "cell_type": "code",
   "execution_count": 28,
   "id": "67064507-cbfd-414d-b010-47f12b5f8a01",
   "metadata": {},
   "outputs": [
    {
     "data": {
      "text/plain": [
       "Index(['tenure', 'age', 'address', 'income', 'ed', 'employ', 'longmon',\n",
       "       'tollmon', 'equipmon', 'cardmon', 'wiremon', 'longten', 'tollten',\n",
       "       'cardten', 'loglong', 'lninc', 'custcat'],\n",
       "      dtype='object')"
      ]
     },
     "execution_count": 28,
     "metadata": {},
     "output_type": "execute_result"
    }
   ],
   "source": [
    "columnames = df.columns\n",
    "columnames"
   ]
  },
  {
   "cell_type": "code",
   "execution_count": 29,
   "id": "a92f9a1a-f654-493b-93f6-c872791a59ae",
   "metadata": {},
   "outputs": [
    {
     "data": {
      "text/plain": [
       "tenure      0.131191\n",
       "age         0.024966\n",
       "address     0.048585\n",
       "income      0.035081\n",
       "ed          0.054121\n",
       "employ      0.074893\n",
       "longmon     0.031263\n",
       "tollmon     0.042747\n",
       "equipmon    0.032298\n",
       "cardmon     0.000369\n",
       "wiremon     0.081682\n",
       "longten     0.057293\n",
       "tollten     0.036939\n",
       "cardten     0.085819\n",
       "loglong     0.024755\n",
       "lninc       0.022882\n",
       "custcat     0.000000\n",
       "dtype: float64"
      ]
     },
     "execution_count": 29,
     "metadata": {},
     "output_type": "execute_result"
    }
   ],
   "source": [
    "mic_ser.index = columnames\n",
    "mic_ser"
   ]
  },
  {
   "cell_type": "code",
   "execution_count": 30,
   "id": "7e10e10f-61b1-4c7f-a991-e649f28ceda0",
   "metadata": {},
   "outputs": [
    {
     "data": {
      "text/plain": [
       "tenure      0.131191\n",
       "cardten     0.085819\n",
       "wiremon     0.081682\n",
       "employ      0.074893\n",
       "longten     0.057293\n",
       "ed          0.054121\n",
       "address     0.048585\n",
       "tollmon     0.042747\n",
       "tollten     0.036939\n",
       "income      0.035081\n",
       "equipmon    0.032298\n",
       "longmon     0.031263\n",
       "age         0.024966\n",
       "loglong     0.024755\n",
       "lninc       0.022882\n",
       "cardmon     0.000369\n",
       "custcat     0.000000\n",
       "dtype: float64"
      ]
     },
     "execution_count": 30,
     "metadata": {},
     "output_type": "execute_result"
    }
   ],
   "source": [
    "mic_ser.sort_values(ascending=False)"
   ]
  },
  {
   "cell_type": "code",
   "execution_count": 31,
   "id": "0aafc4b5-5d5f-4521-b319-d7c0d5df9b2f",
   "metadata": {},
   "outputs": [
    {
     "name": "stdout",
     "output_type": "stream",
     "text": [
      "cardmon 0.0003686769430659709\n",
      "custcat 0.0\n"
     ]
    }
   ],
   "source": [
    "removable_col = []\n",
    "for i in mic_ser.index:\n",
    "    if mic_ser[i] < 0.02:\n",
    "        print(i, mic_ser[i])\n",
    "        removable_col.append(i)"
   ]
  },
  {
   "cell_type": "code",
   "execution_count": 32,
   "id": "1a220a51-1384-4eb7-9a06-bb7311959952",
   "metadata": {},
   "outputs": [],
   "source": [
    "df.drop(removable_col, axis=1, inplace=True)"
   ]
  },
  {
   "cell_type": "code",
   "execution_count": 33,
   "id": "b7bb44b7-f430-4474-894b-a24bee674e4f",
   "metadata": {},
   "outputs": [
    {
     "data": {
      "text/html": [
       "<div>\n",
       "<style scoped>\n",
       "    .dataframe tbody tr th:only-of-type {\n",
       "        vertical-align: middle;\n",
       "    }\n",
       "\n",
       "    .dataframe tbody tr th {\n",
       "        vertical-align: top;\n",
       "    }\n",
       "\n",
       "    .dataframe thead th {\n",
       "        text-align: right;\n",
       "    }\n",
       "</style>\n",
       "<table border=\"1\" class=\"dataframe\">\n",
       "  <thead>\n",
       "    <tr style=\"text-align: right;\">\n",
       "      <th></th>\n",
       "      <th>tenure</th>\n",
       "      <th>age</th>\n",
       "      <th>address</th>\n",
       "      <th>income</th>\n",
       "      <th>ed</th>\n",
       "      <th>employ</th>\n",
       "      <th>longmon</th>\n",
       "      <th>tollmon</th>\n",
       "      <th>equipmon</th>\n",
       "      <th>wiremon</th>\n",
       "      <th>longten</th>\n",
       "      <th>tollten</th>\n",
       "      <th>cardten</th>\n",
       "      <th>loglong</th>\n",
       "      <th>lninc</th>\n",
       "    </tr>\n",
       "  </thead>\n",
       "  <tbody>\n",
       "    <tr>\n",
       "      <th>0</th>\n",
       "      <td>11.0</td>\n",
       "      <td>33.0</td>\n",
       "      <td>7.0</td>\n",
       "      <td>136.0</td>\n",
       "      <td>5.0</td>\n",
       "      <td>5.0</td>\n",
       "      <td>4.40</td>\n",
       "      <td>20.75</td>\n",
       "      <td>0.0</td>\n",
       "      <td>35.7</td>\n",
       "      <td>42.00</td>\n",
       "      <td>211.45</td>\n",
       "      <td>125.0</td>\n",
       "      <td>1.482</td>\n",
       "      <td>4.913</td>\n",
       "    </tr>\n",
       "    <tr>\n",
       "      <th>1</th>\n",
       "      <td>33.0</td>\n",
       "      <td>33.0</td>\n",
       "      <td>12.0</td>\n",
       "      <td>33.0</td>\n",
       "      <td>2.0</td>\n",
       "      <td>0.0</td>\n",
       "      <td>9.45</td>\n",
       "      <td>0.00</td>\n",
       "      <td>0.0</td>\n",
       "      <td>0.0</td>\n",
       "      <td>288.80</td>\n",
       "      <td>0.00</td>\n",
       "      <td>0.0</td>\n",
       "      <td>2.246</td>\n",
       "      <td>3.497</td>\n",
       "    </tr>\n",
       "    <tr>\n",
       "      <th>2</th>\n",
       "      <td>23.0</td>\n",
       "      <td>30.0</td>\n",
       "      <td>9.0</td>\n",
       "      <td>30.0</td>\n",
       "      <td>1.0</td>\n",
       "      <td>2.0</td>\n",
       "      <td>6.30</td>\n",
       "      <td>0.00</td>\n",
       "      <td>0.0</td>\n",
       "      <td>0.0</td>\n",
       "      <td>157.05</td>\n",
       "      <td>0.00</td>\n",
       "      <td>0.0</td>\n",
       "      <td>1.841</td>\n",
       "      <td>3.401</td>\n",
       "    </tr>\n",
       "    <tr>\n",
       "      <th>3</th>\n",
       "      <td>38.0</td>\n",
       "      <td>35.0</td>\n",
       "      <td>5.0</td>\n",
       "      <td>76.0</td>\n",
       "      <td>2.0</td>\n",
       "      <td>10.0</td>\n",
       "      <td>6.05</td>\n",
       "      <td>45.00</td>\n",
       "      <td>50.1</td>\n",
       "      <td>64.9</td>\n",
       "      <td>239.55</td>\n",
       "      <td>1873.05</td>\n",
       "      <td>880.0</td>\n",
       "      <td>1.800</td>\n",
       "      <td>4.331</td>\n",
       "    </tr>\n",
       "    <tr>\n",
       "      <th>4</th>\n",
       "      <td>7.0</td>\n",
       "      <td>35.0</td>\n",
       "      <td>14.0</td>\n",
       "      <td>80.0</td>\n",
       "      <td>2.0</td>\n",
       "      <td>15.0</td>\n",
       "      <td>7.10</td>\n",
       "      <td>22.00</td>\n",
       "      <td>0.0</td>\n",
       "      <td>0.0</td>\n",
       "      <td>47.45</td>\n",
       "      <td>166.10</td>\n",
       "      <td>145.0</td>\n",
       "      <td>1.960</td>\n",
       "      <td>4.382</td>\n",
       "    </tr>\n",
       "  </tbody>\n",
       "</table>\n",
       "</div>"
      ],
      "text/plain": [
       "   tenure   age  address  income   ed  employ  longmon  tollmon  equipmon  \\\n",
       "0    11.0  33.0      7.0   136.0  5.0     5.0     4.40    20.75       0.0   \n",
       "1    33.0  33.0     12.0    33.0  2.0     0.0     9.45     0.00       0.0   \n",
       "2    23.0  30.0      9.0    30.0  1.0     2.0     6.30     0.00       0.0   \n",
       "3    38.0  35.0      5.0    76.0  2.0    10.0     6.05    45.00      50.1   \n",
       "4     7.0  35.0     14.0    80.0  2.0    15.0     7.10    22.00       0.0   \n",
       "\n",
       "   wiremon  longten  tollten  cardten  loglong  lninc  \n",
       "0     35.7    42.00   211.45    125.0    1.482  4.913  \n",
       "1      0.0   288.80     0.00      0.0    2.246  3.497  \n",
       "2      0.0   157.05     0.00      0.0    1.841  3.401  \n",
       "3     64.9   239.55  1873.05    880.0    1.800  4.331  \n",
       "4      0.0    47.45   166.10    145.0    1.960  4.382  "
      ]
     },
     "execution_count": 33,
     "metadata": {},
     "output_type": "execute_result"
    }
   ],
   "source": [
    "df.head()"
   ]
  },
  {
   "cell_type": "markdown",
   "id": "56acfdd4",
   "metadata": {},
   "source": []
  },
  {
   "cell_type": "code",
   "execution_count": 34,
   "id": "6835281e-8926-4953-8195-856e2fc82c03",
   "metadata": {},
   "outputs": [],
   "source": [
    "# Creating model with Logistic Regression"
   ]
  },
  {
   "cell_type": "code",
   "execution_count": 35,
   "id": "ce6105f7-fed1-43ec-82a1-08e1fd1ab358",
   "metadata": {},
   "outputs": [],
   "source": [
    "cdf = cdf.astype('int')"
   ]
  },
  {
   "cell_type": "code",
   "execution_count": 36,
   "id": "d624117a-98cd-4708-b931-c5c8f8700652",
   "metadata": {},
   "outputs": [],
   "source": [
    "x = np.asarray(df)"
   ]
  },
  {
   "cell_type": "code",
   "execution_count": 37,
   "id": "376a4534-7106-42d3-9c36-62fdf874d41b",
   "metadata": {},
   "outputs": [
    {
     "data": {
      "text/plain": [
       "array([[1.10000e+01, 3.30000e+01, 7.00000e+00, 1.36000e+02, 5.00000e+00,\n",
       "        5.00000e+00, 4.40000e+00, 2.07500e+01, 0.00000e+00, 3.57000e+01,\n",
       "        4.20000e+01, 2.11450e+02, 1.25000e+02, 1.48200e+00, 4.91300e+00],\n",
       "       [3.30000e+01, 3.30000e+01, 1.20000e+01, 3.30000e+01, 2.00000e+00,\n",
       "        0.00000e+00, 9.45000e+00, 0.00000e+00, 0.00000e+00, 0.00000e+00,\n",
       "        2.88800e+02, 0.00000e+00, 0.00000e+00, 2.24600e+00, 3.49700e+00],\n",
       "       [2.30000e+01, 3.00000e+01, 9.00000e+00, 3.00000e+01, 1.00000e+00,\n",
       "        2.00000e+00, 6.30000e+00, 0.00000e+00, 0.00000e+00, 0.00000e+00,\n",
       "        1.57050e+02, 0.00000e+00, 0.00000e+00, 1.84100e+00, 3.40100e+00],\n",
       "       [3.80000e+01, 3.50000e+01, 5.00000e+00, 7.60000e+01, 2.00000e+00,\n",
       "        1.00000e+01, 6.05000e+00, 4.50000e+01, 5.01000e+01, 6.49000e+01,\n",
       "        2.39550e+02, 1.87305e+03, 8.80000e+02, 1.80000e+00, 4.33100e+00],\n",
       "       [7.00000e+00, 3.50000e+01, 1.40000e+01, 8.00000e+01, 2.00000e+00,\n",
       "        1.50000e+01, 7.10000e+00, 2.20000e+01, 0.00000e+00, 0.00000e+00,\n",
       "        4.74500e+01, 1.66100e+02, 1.45000e+02, 1.96000e+00, 4.38200e+00]])"
      ]
     },
     "execution_count": 37,
     "metadata": {},
     "output_type": "execute_result"
    }
   ],
   "source": [
    "x[0:5]"
   ]
  },
  {
   "cell_type": "code",
   "execution_count": 38,
   "id": "2bdde64a-61e2-4982-b2c1-8bc2a4cadccd",
   "metadata": {},
   "outputs": [],
   "source": [
    "y = np.asarray(cdf)"
   ]
  },
  {
   "cell_type": "code",
   "execution_count": 39,
   "id": "211e9c13-ebf7-4ff5-ab0d-fcdddb2a42ca",
   "metadata": {},
   "outputs": [
    {
     "data": {
      "text/plain": [
       "array([1, 1, 0, 0, 0])"
      ]
     },
     "execution_count": 39,
     "metadata": {},
     "output_type": "execute_result"
    }
   ],
   "source": [
    "y[0:5]"
   ]
  },
  {
   "cell_type": "code",
   "execution_count": 40,
   "id": "2292c1a9-c1da-4b4c-9df1-e5d16d579363",
   "metadata": {},
   "outputs": [],
   "source": [
    "from sklearn import preprocessing"
   ]
  },
  {
   "cell_type": "code",
   "execution_count": 41,
   "id": "4ce0124c-18c7-4fc0-96cd-3b2ee46fa1c4",
   "metadata": {},
   "outputs": [],
   "source": [
    "x = preprocessing.StandardScaler().fit(x).transform(x)"
   ]
  },
  {
   "cell_type": "code",
   "execution_count": 42,
   "id": "9f5a9b1b-d435-41ac-8b9b-93cc722aeda5",
   "metadata": {},
   "outputs": [],
   "source": [
    "from sklearn.model_selection import train_test_split\n",
    "x_train, x_test, y_train, y_test = train_test_split(x, y, test_size = 0.2, random_state = 156)"
   ]
  },
  {
   "cell_type": "code",
   "execution_count": 43,
   "id": "b2c09869-074f-4b50-9a2b-34d7b5045c1e",
   "metadata": {},
   "outputs": [
    {
     "name": "stdout",
     "output_type": "stream",
     "text": [
      "Train status (160, 15) (160,)\n",
      "Test status (40, 15) (40,)\n"
     ]
    }
   ],
   "source": [
    "print(\"Train status\", x_train.shape, y_train.shape)\n",
    "print(\"Test status\", x_test.shape, y_test.shape)"
   ]
  },
  {
   "cell_type": "code",
   "execution_count": 44,
   "id": "ed10f2a8-3a3c-4b27-94a4-08360ad57b0c",
   "metadata": {},
   "outputs": [],
   "source": [
    "from sklearn.linear_model import LogisticRegression"
   ]
  },
  {
   "cell_type": "code",
   "execution_count": 45,
   "id": "e58261f4-706e-4b68-9efd-ea3e947f4374",
   "metadata": {},
   "outputs": [
    {
     "name": "stderr",
     "output_type": "stream",
     "text": [
      "[Parallel(n_jobs=1)]: Using backend SequentialBackend with 1 concurrent workers.\n",
      "[Parallel(n_jobs=1)]: Done   1 out of   1 | elapsed:    0.0s finished\n"
     ]
    }
   ],
   "source": [
    "LR = LogisticRegression (C=0.2, solver = \"newton-cg\", verbose=1).fit(x_train,y_train)"
   ]
  },
  {
   "cell_type": "code",
   "execution_count": 46,
   "id": "ae77c0e3-2e61-4172-b587-6e2c484eece7",
   "metadata": {},
   "outputs": [],
   "source": [
    "y_pred = LR.predict(x_test)"
   ]
  },
  {
   "cell_type": "code",
   "execution_count": 47,
   "id": "2b2d0829-1a97-49a4-9a06-b43e4e11e31c",
   "metadata": {},
   "outputs": [],
   "source": [
    "from sklearn.metrics import accuracy_score as acc"
   ]
  },
  {
   "cell_type": "code",
   "execution_count": 48,
   "id": "cf45a595-44d7-4cf8-9452-e2767eda1c15",
   "metadata": {},
   "outputs": [
    {
     "name": "stdout",
     "output_type": "stream",
     "text": [
      "77.5\n"
     ]
    }
   ],
   "source": [
    "print(acc(y_test, y_pred)*100)"
   ]
  },
  {
   "cell_type": "code",
   "execution_count": 49,
   "id": "b277389a-90f5-403b-8d16-26001b6510be",
   "metadata": {},
   "outputs": [],
   "source": [
    "import pickle\n",
    "pickle.dump(LR, open('model.pkl', 'wb'))"
   ]
  },
  {
   "cell_type": "code",
   "execution_count": null,
   "id": "cc7eb2c8-6014-4bb0-98d9-7d396761c3dd",
   "metadata": {},
   "outputs": [],
   "source": []
  },
  {
   "cell_type": "code",
   "execution_count": null,
   "id": "01afe790-5ac4-4482-b4a2-1d6dd29889fd",
   "metadata": {},
   "outputs": [],
   "source": []
  },
  {
   "cell_type": "code",
   "execution_count": null,
   "id": "464661d4-75f3-49b2-a491-e9add6acad25",
   "metadata": {},
   "outputs": [],
   "source": []
  },
  {
   "cell_type": "code",
   "execution_count": null,
   "id": "13aec6f0-7a39-41b3-bb37-4a5f0861745b",
   "metadata": {},
   "outputs": [],
   "source": []
  },
  {
   "cell_type": "code",
   "execution_count": null,
   "id": "4d4c25f5-c992-40ea-9785-88fa9e5fe80f",
   "metadata": {},
   "outputs": [],
   "source": []
  },
  {
   "cell_type": "code",
   "execution_count": null,
   "id": "b1c39bf3-0b9e-4811-b955-d97fe27c5906",
   "metadata": {},
   "outputs": [],
   "source": []
  },
  {
   "cell_type": "code",
   "execution_count": null,
   "id": "65d95633-ce0a-43f2-b419-fb8c7c01b8ec",
   "metadata": {},
   "outputs": [],
   "source": []
  },
  {
   "cell_type": "code",
   "execution_count": null,
   "id": "4aee9d24-06d9-49ec-9c05-4d4a812fca88",
   "metadata": {},
   "outputs": [],
   "source": []
  },
  {
   "cell_type": "code",
   "execution_count": null,
   "id": "25ae3bd6-4f21-4455-b385-4f5a0a5722db",
   "metadata": {},
   "outputs": [],
   "source": []
  },
  {
   "cell_type": "code",
   "execution_count": null,
   "id": "3bcf5b09-78ee-4837-bd65-e39f881efbc3",
   "metadata": {},
   "outputs": [],
   "source": []
  },
  {
   "cell_type": "code",
   "execution_count": null,
   "id": "5a0bfc9e-3fc9-425e-b5a5-2f0521701a8e",
   "metadata": {},
   "outputs": [],
   "source": []
  },
  {
   "cell_type": "code",
   "execution_count": null,
   "id": "af84bf06-a6bb-444f-afe3-35b98be9af44",
   "metadata": {},
   "outputs": [],
   "source": []
  },
  {
   "cell_type": "code",
   "execution_count": null,
   "id": "e3a4ac6a-8849-4d31-be67-888aec81df73",
   "metadata": {},
   "outputs": [],
   "source": []
  },
  {
   "cell_type": "code",
   "execution_count": null,
   "id": "dcafd1b4-d0c5-405c-8659-e9e73ec5f33a",
   "metadata": {},
   "outputs": [],
   "source": []
  },
  {
   "cell_type": "code",
   "execution_count": null,
   "id": "51bcb10d-87d7-45e9-9221-f9ec520f132a",
   "metadata": {},
   "outputs": [],
   "source": []
  },
  {
   "cell_type": "code",
   "execution_count": null,
   "id": "7b824ce7-8c02-4fc9-af4f-d50903d58040",
   "metadata": {},
   "outputs": [],
   "source": []
  },
  {
   "cell_type": "code",
   "execution_count": null,
   "id": "298a5e53-3038-47ac-bb97-0e9950b73f98",
   "metadata": {},
   "outputs": [],
   "source": []
  },
  {
   "cell_type": "code",
   "execution_count": null,
   "id": "5332db82-0b03-45c3-a445-b475a306fd6a",
   "metadata": {},
   "outputs": [],
   "source": []
  },
  {
   "cell_type": "code",
   "execution_count": null,
   "id": "cb365449-d090-4296-b19c-612d0b1bee98",
   "metadata": {},
   "outputs": [],
   "source": []
  },
  {
   "cell_type": "code",
   "execution_count": null,
   "id": "71e2d3f2-008e-4bea-aae1-3ae9b063aeb6",
   "metadata": {},
   "outputs": [],
   "source": []
  },
  {
   "cell_type": "code",
   "execution_count": null,
   "id": "7de54797-901d-47ab-bfaa-59c22b8a9f2a",
   "metadata": {},
   "outputs": [],
   "source": []
  },
  {
   "cell_type": "code",
   "execution_count": null,
   "id": "2ced7958-a836-4f63-aee2-f3d9b0175adb",
   "metadata": {},
   "outputs": [],
   "source": []
  },
  {
   "cell_type": "code",
   "execution_count": null,
   "id": "c8b69f71-596c-41e6-876a-5cb52c609b19",
   "metadata": {},
   "outputs": [],
   "source": []
  },
  {
   "cell_type": "code",
   "execution_count": null,
   "id": "b4f1fbec-f04b-4a1b-9f95-d454d09b6f21",
   "metadata": {},
   "outputs": [],
   "source": []
  },
  {
   "cell_type": "code",
   "execution_count": null,
   "id": "620d438d-9cae-40f7-aac7-5ff5f0072417",
   "metadata": {},
   "outputs": [],
   "source": []
  },
  {
   "cell_type": "code",
   "execution_count": null,
   "id": "770f42c9-d9ec-401d-88ba-c18b9f35859c",
   "metadata": {},
   "outputs": [],
   "source": []
  },
  {
   "cell_type": "code",
   "execution_count": null,
   "id": "43c3edf7-a1aa-4df0-8251-f7d4f2e56aee",
   "metadata": {},
   "outputs": [],
   "source": []
  },
  {
   "cell_type": "code",
   "execution_count": null,
   "id": "279e1497-5e11-42d9-bc4c-c932f6c5ef9f",
   "metadata": {},
   "outputs": [],
   "source": []
  },
  {
   "cell_type": "code",
   "execution_count": null,
   "id": "5033280a-5dcf-4e9e-bac4-7eaf3cdb7d44",
   "metadata": {},
   "outputs": [],
   "source": []
  },
  {
   "cell_type": "code",
   "execution_count": null,
   "id": "716d8966-d11f-47e1-a67f-7ef884b53434",
   "metadata": {},
   "outputs": [],
   "source": []
  },
  {
   "cell_type": "code",
   "execution_count": null,
   "id": "ccebf52d-8c8e-44d6-9298-40ad405e0323",
   "metadata": {},
   "outputs": [],
   "source": []
  },
  {
   "cell_type": "code",
   "execution_count": null,
   "id": "944ad70c-50e8-4b5e-a239-cb08aef331ab",
   "metadata": {},
   "outputs": [],
   "source": []
  },
  {
   "cell_type": "code",
   "execution_count": null,
   "id": "5905fa38-0f37-4f3b-a412-dea10c384dff",
   "metadata": {},
   "outputs": [],
   "source": []
  },
  {
   "cell_type": "code",
   "execution_count": null,
   "id": "c5490d62-1a14-4b20-8c72-3955d9ecd024",
   "metadata": {},
   "outputs": [],
   "source": []
  },
  {
   "cell_type": "code",
   "execution_count": null,
   "id": "0ae50e77-ceb5-4fe4-9a92-d54a02d11a1e",
   "metadata": {},
   "outputs": [],
   "source": []
  },
  {
   "cell_type": "code",
   "execution_count": null,
   "id": "8fe120c3-ad13-4792-8a49-ccb9f6e91337",
   "metadata": {},
   "outputs": [],
   "source": []
  },
  {
   "cell_type": "code",
   "execution_count": null,
   "id": "b9811a1a-0440-46f8-866f-73f53d77068c",
   "metadata": {},
   "outputs": [],
   "source": []
  },
  {
   "cell_type": "code",
   "execution_count": null,
   "id": "8301a8d5-1358-462f-a33a-a9bc9fa89844",
   "metadata": {},
   "outputs": [],
   "source": []
  }
 ],
 "metadata": {
  "kernelspec": {
   "display_name": "Python 3.9.13 ('base')",
   "language": "python",
   "name": "python3"
  },
  "language_info": {
   "codemirror_mode": {
    "name": "ipython",
    "version": 3
   },
   "file_extension": ".py",
   "mimetype": "text/x-python",
   "name": "python",
   "nbconvert_exporter": "python",
   "pygments_lexer": "ipython3",
   "version": "3.9.13"
  },
  "vscode": {
   "interpreter": {
    "hash": "0fb81e4dfa43580d432e7c4304fd8024a2072e9c18f9702b8ec5d84f16870407"
   }
  }
 },
 "nbformat": 4,
 "nbformat_minor": 5
}
